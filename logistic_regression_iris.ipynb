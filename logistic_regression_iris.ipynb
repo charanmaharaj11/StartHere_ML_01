# Logistic Regression on Iris Dataset

In this notebook, we explore the famous Iris dataset and apply Logistic Regression to classify the flowers based on four features (sepal length, sepal width, petal length, petal width).
We will visualize the decision boundaries using only the sepal features, although we use all four features for training the model.
